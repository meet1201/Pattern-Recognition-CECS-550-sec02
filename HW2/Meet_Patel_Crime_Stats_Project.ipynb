{
  "cells": [
    {
      "cell_type": "markdown",
      "id": "55e6b918-afac-43e8-b338-43f8ac64014f",
      "metadata": {
        "id": "55e6b918-afac-43e8-b338-43f8ac64014f"
      },
      "source": [
        "##  Deep Neural Networks Project"
      ]
    },
    {
      "cell_type": "markdown",
      "id": "1a8e066d-2849-4a6e-9c71-bb98d605ae07",
      "metadata": {
        "id": "1a8e066d-2849-4a6e-9c71-bb98d605ae07"
      },
      "source": [
        "In this project, you will be working with a real-world data set from the Las Vegas Metropolitan Police Department. The dataset  contains information about the reported incidents, including the time and location of the crime, type of incident, and number of persons involved."
      ]
    },
    {
      "cell_type": "markdown",
      "id": "9e87fac7-352a-4c39-b087-76254b5e2743",
      "metadata": {
        "id": "9e87fac7-352a-4c39-b087-76254b5e2743"
      },
      "source": [
        "The dataset is downloaded from the public docket at:\n",
        "https://opendata-lvmpd.hub.arcgis.com\n",
        "\n",
        "let's read the csv file and transform the data:"
      ]
    },
    {
      "cell_type": "code",
      "execution_count": 2,
      "id": "637211a4-582f-426b-a127-c3f284463f35",
      "metadata": {
        "id": "637211a4-582f-426b-a127-c3f284463f35"
      },
      "outputs": [],
      "source": [
        "import torch\n",
        "import pandas as pd\n",
        "from torch.utils.data import DataLoader, Dataset\n",
        "import matplotlib.pyplot as plt\n",
        "import seaborn as sns\n",
        "import numpy as np"
      ]
    },
    {
      "cell_type": "code",
      "execution_count": 3,
      "id": "bcf40b02-80b6-4abc-a662-f7ed50a65181",
      "metadata": {
        "id": "bcf40b02-80b6-4abc-a662-f7ed50a65181"
      },
      "outputs": [],
      "source": [
        "orig_df = pd.read_csv('LVMPD-Stats.csv', parse_dates=['ReportedOn'])"
      ]
    },
    {
      "cell_type": "code",
      "execution_count": 4,
      "id": "e1ca1d15-3955-4971-a3c4-c1a73b62edda",
      "metadata": {
        "id": "e1ca1d15-3955-4971-a3c4-c1a73b62edda"
      },
      "outputs": [],
      "source": [
        "df = pd.read_csv('LVMPD-Stats.csv', parse_dates=['ReportedOn'],\n",
        "                 usecols = ['X', 'Y', 'ReportedOn',\n",
        "                            'Area_Command','NIBRSOffenseCode',\n",
        "                            'VictimCount' ] )\n",
        "\n",
        "df['DayOfWeek'] = df['ReportedOn'].dt.day_name()\n",
        "df['Time' ]     = df['ReportedOn'].dt.hour\n",
        "df.drop(columns = 'ReportedOn', inplace=True)"
      ]
    },
    {
      "cell_type": "code",
      "execution_count": 5,
      "id": "3ddc413d-ba3f-4204-bc18-7fdd4de8d221",
      "metadata": {
        "id": "3ddc413d-ba3f-4204-bc18-7fdd4de8d221"
      },
      "outputs": [],
      "source": [
        "df['X'] = df['X']\n",
        "df['Y'] = df['Y']\n",
        "df['Time'] = pd.factorize(df['Time'])[0]\n",
        "df['DayOfWeek'] = pd.factorize(df['DayOfWeek'])[0]\n",
        "df.Area_Command = pd.factorize(df['Area_Command'])[0]\n",
        "df.VictimCount = pd.factorize(df['VictimCount'])[0]\n",
        "df.NIBRSOffenseCode = pd.factorize(df['NIBRSOffenseCode'])[0]\n",
        "df.dropna(inplace=True)"
      ]
    },
    {
      "cell_type": "code",
      "execution_count": 6,
      "id": "a9c6162f-9686-4195-818d-950a6368c686",
      "metadata": {
        "id": "a9c6162f-9686-4195-818d-950a6368c686"
      },
      "outputs": [],
      "source": [
        "df= df[['X', 'Y', 'Area_Command', 'NIBRSOffenseCode',\n",
        "       'DayOfWeek', 'Time','VictimCount']]"
      ]
    },
    {
      "cell_type": "code",
      "execution_count": 7,
      "id": "a90bc78a-6d1b-4fe4-a1b0-8333aec1c851",
      "metadata": {
        "colab": {
          "base_uri": "https://localhost:8080/"
        },
        "id": "a90bc78a-6d1b-4fe4-a1b0-8333aec1c851",
        "outputId": "a29deab3-55db-4728-f04b-5d0636054352"
      },
      "outputs": [
        {
          "output_type": "execute_result",
          "data": {
            "text/plain": [
              "(275, 7)"
            ]
          },
          "metadata": {},
          "execution_count": 7
        }
      ],
      "source": [
        "df.values.shape"
      ]
    },
    {
      "cell_type": "markdown",
      "id": "651605b1-8d2c-4d3e-a09e-9aef6e550fc6",
      "metadata": {
        "id": "651605b1-8d2c-4d3e-a09e-9aef6e550fc6"
      },
      "source": [
        "# Goal\n",
        "The goal is to build a predictive model that is trained on the following data:\n",
        "* latitude and longitude (location)\n",
        "* Hour of the day\n",
        "* Day of the week\n",
        "* Area-of-command code: The police designation of the bureau of the operation.\n",
        "* Classification code for the crime committed\n",
        "  \n",
        "The predicted variable is the number of persons involved in the accident.\n"
      ]
    },
    {
      "cell_type": "markdown",
      "id": "0e54f0b8-83f9-4db9-88f9-f5a595342069",
      "metadata": {
        "id": "0e54f0b8-83f9-4db9-88f9-f5a595342069"
      },
      "source": [
        "## Task 1\n",
        "* print a few rows of the values in the dataframe ``df`` and explain what each column of data means.\n",
        "* identify the input and target variables\n",
        "* what is the range of values in each column? Do you need to scale, shift or normalize your data?\n"
      ]
    },
    {
      "cell_type": "code",
      "source": [
        "df.head()"
      ],
      "metadata": {
        "colab": {
          "base_uri": "https://localhost:8080/",
          "height": 204
        },
        "id": "MxVvXswS3FTF",
        "outputId": "2b73544b-16af-4536-80e9-3d8be0444994"
      },
      "id": "MxVvXswS3FTF",
      "execution_count": 8,
      "outputs": [
        {
          "output_type": "execute_result",
          "data": {
            "text/plain": [
              "            X          Y  Area_Command  NIBRSOffenseCode  DayOfWeek  Time  \\\n",
              "0 -115.087518  36.216702             0                 0          0     0   \n",
              "1 -115.240172  36.189693             1                 1          1     1   \n",
              "2 -115.143088  36.181329             2                 1          2     0   \n",
              "3 -115.225014  36.117633             3                 1          1     2   \n",
              "4 -115.176708  36.095967             4                 1          1     3   \n",
              "\n",
              "   VictimCount  \n",
              "0            0  \n",
              "1            0  \n",
              "2            1  \n",
              "3            2  \n",
              "4            0  "
            ],
            "text/html": [
              "\n",
              "  <div id=\"df-26029370-5d2e-46ed-8cae-757e2a7510ec\" class=\"colab-df-container\">\n",
              "    <div>\n",
              "<style scoped>\n",
              "    .dataframe tbody tr th:only-of-type {\n",
              "        vertical-align: middle;\n",
              "    }\n",
              "\n",
              "    .dataframe tbody tr th {\n",
              "        vertical-align: top;\n",
              "    }\n",
              "\n",
              "    .dataframe thead th {\n",
              "        text-align: right;\n",
              "    }\n",
              "</style>\n",
              "<table border=\"1\" class=\"dataframe\">\n",
              "  <thead>\n",
              "    <tr style=\"text-align: right;\">\n",
              "      <th></th>\n",
              "      <th>X</th>\n",
              "      <th>Y</th>\n",
              "      <th>Area_Command</th>\n",
              "      <th>NIBRSOffenseCode</th>\n",
              "      <th>DayOfWeek</th>\n",
              "      <th>Time</th>\n",
              "      <th>VictimCount</th>\n",
              "    </tr>\n",
              "  </thead>\n",
              "  <tbody>\n",
              "    <tr>\n",
              "      <th>0</th>\n",
              "      <td>-115.087518</td>\n",
              "      <td>36.216702</td>\n",
              "      <td>0</td>\n",
              "      <td>0</td>\n",
              "      <td>0</td>\n",
              "      <td>0</td>\n",
              "      <td>0</td>\n",
              "    </tr>\n",
              "    <tr>\n",
              "      <th>1</th>\n",
              "      <td>-115.240172</td>\n",
              "      <td>36.189693</td>\n",
              "      <td>1</td>\n",
              "      <td>1</td>\n",
              "      <td>1</td>\n",
              "      <td>1</td>\n",
              "      <td>0</td>\n",
              "    </tr>\n",
              "    <tr>\n",
              "      <th>2</th>\n",
              "      <td>-115.143088</td>\n",
              "      <td>36.181329</td>\n",
              "      <td>2</td>\n",
              "      <td>1</td>\n",
              "      <td>2</td>\n",
              "      <td>0</td>\n",
              "      <td>1</td>\n",
              "    </tr>\n",
              "    <tr>\n",
              "      <th>3</th>\n",
              "      <td>-115.225014</td>\n",
              "      <td>36.117633</td>\n",
              "      <td>3</td>\n",
              "      <td>1</td>\n",
              "      <td>1</td>\n",
              "      <td>2</td>\n",
              "      <td>2</td>\n",
              "    </tr>\n",
              "    <tr>\n",
              "      <th>4</th>\n",
              "      <td>-115.176708</td>\n",
              "      <td>36.095967</td>\n",
              "      <td>4</td>\n",
              "      <td>1</td>\n",
              "      <td>1</td>\n",
              "      <td>3</td>\n",
              "      <td>0</td>\n",
              "    </tr>\n",
              "  </tbody>\n",
              "</table>\n",
              "</div>\n",
              "    <div class=\"colab-df-buttons\">\n",
              "\n",
              "  <div class=\"colab-df-container\">\n",
              "    <button class=\"colab-df-convert\" onclick=\"convertToInteractive('df-26029370-5d2e-46ed-8cae-757e2a7510ec')\"\n",
              "            title=\"Convert this dataframe to an interactive table.\"\n",
              "            style=\"display:none;\">\n",
              "\n",
              "  <svg xmlns=\"http://www.w3.org/2000/svg\" height=\"24px\" viewBox=\"0 -960 960 960\">\n",
              "    <path d=\"M120-120v-720h720v720H120Zm60-500h600v-160H180v160Zm220 220h160v-160H400v160Zm0 220h160v-160H400v160ZM180-400h160v-160H180v160Zm440 0h160v-160H620v160ZM180-180h160v-160H180v160Zm440 0h160v-160H620v160Z\"/>\n",
              "  </svg>\n",
              "    </button>\n",
              "\n",
              "  <style>\n",
              "    .colab-df-container {\n",
              "      display:flex;\n",
              "      gap: 12px;\n",
              "    }\n",
              "\n",
              "    .colab-df-convert {\n",
              "      background-color: #E8F0FE;\n",
              "      border: none;\n",
              "      border-radius: 50%;\n",
              "      cursor: pointer;\n",
              "      display: none;\n",
              "      fill: #1967D2;\n",
              "      height: 32px;\n",
              "      padding: 0 0 0 0;\n",
              "      width: 32px;\n",
              "    }\n",
              "\n",
              "    .colab-df-convert:hover {\n",
              "      background-color: #E2EBFA;\n",
              "      box-shadow: 0px 1px 2px rgba(60, 64, 67, 0.3), 0px 1px 3px 1px rgba(60, 64, 67, 0.15);\n",
              "      fill: #174EA6;\n",
              "    }\n",
              "\n",
              "    .colab-df-buttons div {\n",
              "      margin-bottom: 4px;\n",
              "    }\n",
              "\n",
              "    [theme=dark] .colab-df-convert {\n",
              "      background-color: #3B4455;\n",
              "      fill: #D2E3FC;\n",
              "    }\n",
              "\n",
              "    [theme=dark] .colab-df-convert:hover {\n",
              "      background-color: #434B5C;\n",
              "      box-shadow: 0px 1px 3px 1px rgba(0, 0, 0, 0.15);\n",
              "      filter: drop-shadow(0px 1px 2px rgba(0, 0, 0, 0.3));\n",
              "      fill: #FFFFFF;\n",
              "    }\n",
              "  </style>\n",
              "\n",
              "    <script>\n",
              "      const buttonEl =\n",
              "        document.querySelector('#df-26029370-5d2e-46ed-8cae-757e2a7510ec button.colab-df-convert');\n",
              "      buttonEl.style.display =\n",
              "        google.colab.kernel.accessAllowed ? 'block' : 'none';\n",
              "\n",
              "      async function convertToInteractive(key) {\n",
              "        const element = document.querySelector('#df-26029370-5d2e-46ed-8cae-757e2a7510ec');\n",
              "        const dataTable =\n",
              "          await google.colab.kernel.invokeFunction('convertToInteractive',\n",
              "                                                    [key], {});\n",
              "        if (!dataTable) return;\n",
              "\n",
              "        const docLinkHtml = 'Like what you see? Visit the ' +\n",
              "          '<a target=\"_blank\" href=https://colab.research.google.com/notebooks/data_table.ipynb>data table notebook</a>'\n",
              "          + ' to learn more about interactive tables.';\n",
              "        element.innerHTML = '';\n",
              "        dataTable['output_type'] = 'display_data';\n",
              "        await google.colab.output.renderOutput(dataTable, element);\n",
              "        const docLink = document.createElement('div');\n",
              "        docLink.innerHTML = docLinkHtml;\n",
              "        element.appendChild(docLink);\n",
              "      }\n",
              "    </script>\n",
              "  </div>\n",
              "\n",
              "\n",
              "<div id=\"df-1acfdc73-59c3-42c0-9b6f-3e715f5217a4\">\n",
              "  <button class=\"colab-df-quickchart\" onclick=\"quickchart('df-1acfdc73-59c3-42c0-9b6f-3e715f5217a4')\"\n",
              "            title=\"Suggest charts.\"\n",
              "            style=\"display:none;\">\n",
              "\n",
              "<svg xmlns=\"http://www.w3.org/2000/svg\" height=\"24px\"viewBox=\"0 0 24 24\"\n",
              "     width=\"24px\">\n",
              "    <g>\n",
              "        <path d=\"M19 3H5c-1.1 0-2 .9-2 2v14c0 1.1.9 2 2 2h14c1.1 0 2-.9 2-2V5c0-1.1-.9-2-2-2zM9 17H7v-7h2v7zm4 0h-2V7h2v10zm4 0h-2v-4h2v4z\"/>\n",
              "    </g>\n",
              "</svg>\n",
              "  </button>\n",
              "\n",
              "<style>\n",
              "  .colab-df-quickchart {\n",
              "      --bg-color: #E8F0FE;\n",
              "      --fill-color: #1967D2;\n",
              "      --hover-bg-color: #E2EBFA;\n",
              "      --hover-fill-color: #174EA6;\n",
              "      --disabled-fill-color: #AAA;\n",
              "      --disabled-bg-color: #DDD;\n",
              "  }\n",
              "\n",
              "  [theme=dark] .colab-df-quickchart {\n",
              "      --bg-color: #3B4455;\n",
              "      --fill-color: #D2E3FC;\n",
              "      --hover-bg-color: #434B5C;\n",
              "      --hover-fill-color: #FFFFFF;\n",
              "      --disabled-bg-color: #3B4455;\n",
              "      --disabled-fill-color: #666;\n",
              "  }\n",
              "\n",
              "  .colab-df-quickchart {\n",
              "    background-color: var(--bg-color);\n",
              "    border: none;\n",
              "    border-radius: 50%;\n",
              "    cursor: pointer;\n",
              "    display: none;\n",
              "    fill: var(--fill-color);\n",
              "    height: 32px;\n",
              "    padding: 0;\n",
              "    width: 32px;\n",
              "  }\n",
              "\n",
              "  .colab-df-quickchart:hover {\n",
              "    background-color: var(--hover-bg-color);\n",
              "    box-shadow: 0 1px 2px rgba(60, 64, 67, 0.3), 0 1px 3px 1px rgba(60, 64, 67, 0.15);\n",
              "    fill: var(--button-hover-fill-color);\n",
              "  }\n",
              "\n",
              "  .colab-df-quickchart-complete:disabled,\n",
              "  .colab-df-quickchart-complete:disabled:hover {\n",
              "    background-color: var(--disabled-bg-color);\n",
              "    fill: var(--disabled-fill-color);\n",
              "    box-shadow: none;\n",
              "  }\n",
              "\n",
              "  .colab-df-spinner {\n",
              "    border: 2px solid var(--fill-color);\n",
              "    border-color: transparent;\n",
              "    border-bottom-color: var(--fill-color);\n",
              "    animation:\n",
              "      spin 1s steps(1) infinite;\n",
              "  }\n",
              "\n",
              "  @keyframes spin {\n",
              "    0% {\n",
              "      border-color: transparent;\n",
              "      border-bottom-color: var(--fill-color);\n",
              "      border-left-color: var(--fill-color);\n",
              "    }\n",
              "    20% {\n",
              "      border-color: transparent;\n",
              "      border-left-color: var(--fill-color);\n",
              "      border-top-color: var(--fill-color);\n",
              "    }\n",
              "    30% {\n",
              "      border-color: transparent;\n",
              "      border-left-color: var(--fill-color);\n",
              "      border-top-color: var(--fill-color);\n",
              "      border-right-color: var(--fill-color);\n",
              "    }\n",
              "    40% {\n",
              "      border-color: transparent;\n",
              "      border-right-color: var(--fill-color);\n",
              "      border-top-color: var(--fill-color);\n",
              "    }\n",
              "    60% {\n",
              "      border-color: transparent;\n",
              "      border-right-color: var(--fill-color);\n",
              "    }\n",
              "    80% {\n",
              "      border-color: transparent;\n",
              "      border-right-color: var(--fill-color);\n",
              "      border-bottom-color: var(--fill-color);\n",
              "    }\n",
              "    90% {\n",
              "      border-color: transparent;\n",
              "      border-bottom-color: var(--fill-color);\n",
              "    }\n",
              "  }\n",
              "</style>\n",
              "\n",
              "  <script>\n",
              "    async function quickchart(key) {\n",
              "      const quickchartButtonEl =\n",
              "        document.querySelector('#' + key + ' button');\n",
              "      quickchartButtonEl.disabled = true;  // To prevent multiple clicks.\n",
              "      quickchartButtonEl.classList.add('colab-df-spinner');\n",
              "      try {\n",
              "        const charts = await google.colab.kernel.invokeFunction(\n",
              "            'suggestCharts', [key], {});\n",
              "      } catch (error) {\n",
              "        console.error('Error during call to suggestCharts:', error);\n",
              "      }\n",
              "      quickchartButtonEl.classList.remove('colab-df-spinner');\n",
              "      quickchartButtonEl.classList.add('colab-df-quickchart-complete');\n",
              "    }\n",
              "    (() => {\n",
              "      let quickchartButtonEl =\n",
              "        document.querySelector('#df-1acfdc73-59c3-42c0-9b6f-3e715f5217a4 button');\n",
              "      quickchartButtonEl.style.display =\n",
              "        google.colab.kernel.accessAllowed ? 'block' : 'none';\n",
              "    })();\n",
              "  </script>\n",
              "</div>\n",
              "    </div>\n",
              "  </div>\n"
            ]
          },
          "metadata": {},
          "execution_count": 8
        }
      ]
    },
    {
      "cell_type": "markdown",
      "source": [
        "**Columns in the DataFrame df:**<br>\n",
        "**X:** Latitude coordinate of the reported incident location.<br>\n",
        "**Y:** Longitude coordinate of the reported incident location.<br>\n",
        "**Area_Command:** The area command where the incident was reported.<br>\n",
        "**NIBRSOffenseCode:** Code representing the type of offense reported.<br>\n",
        "**VictimCount:** Number of victims involved in the incident.<br>\n",
        "**DayOfWeek:** Day of the week when the incident was reported (encoded as integers).<br>\n",
        "**Time:** Hour of the day when the incident was reported (encoded as integers).<br>"
      ],
      "metadata": {
        "id": "RrNoFbNCSLy3"
      },
      "id": "RrNoFbNCSLy3"
    },
    {
      "cell_type": "markdown",
      "source": [
        "**Input:**<br> Latitude(X), Longitude(Y), Hour of the day, Day of the week, Police area of command code, Classification code for crime committed\n",
        "\n",
        "**Target Variables:** Victim Count"
      ],
      "metadata": {
        "id": "MUPjq8VU3MSv"
      },
      "id": "MUPjq8VU3MSv"
    },
    {
      "cell_type": "code",
      "source": [
        "df.describe()"
      ],
      "metadata": {
        "colab": {
          "base_uri": "https://localhost:8080/",
          "height": 297
        },
        "id": "Uu_0Rpz-3LoD",
        "outputId": "0af1d8f5-5035-445b-a3b8-a5df76b9990c"
      },
      "id": "Uu_0Rpz-3LoD",
      "execution_count": 9,
      "outputs": [
        {
          "output_type": "execute_result",
          "data": {
            "text/plain": [
              "                X           Y  Area_Command  NIBRSOffenseCode   DayOfWeek  \\\n",
              "count  275.000000  275.000000    275.000000        275.000000  275.000000   \n",
              "mean  -115.159326   36.143360      3.978182          0.909091    2.981818   \n",
              "std      0.101294    0.118418      3.045799          0.334878    1.924590   \n",
              "min   -116.000000   35.068419      0.000000          0.000000    0.000000   \n",
              "25%   -115.209198   36.114704      1.000000          1.000000    1.000000   \n",
              "50%   -115.149945   36.152415      3.000000          1.000000    3.000000   \n",
              "75%   -115.105200   36.183854      6.000000          1.000000    5.000000   \n",
              "max   -114.625570   37.000000     11.000000          2.000000    6.000000   \n",
              "\n",
              "             Time  VictimCount  \n",
              "count  275.000000   275.000000  \n",
              "mean    11.236364     0.712727  \n",
              "std      7.039937     0.978427  \n",
              "min      0.000000     0.000000  \n",
              "25%      5.000000     0.000000  \n",
              "50%     11.000000     0.000000  \n",
              "75%     18.000000     1.000000  \n",
              "max     23.000000     6.000000  "
            ],
            "text/html": [
              "\n",
              "  <div id=\"df-b67ab2be-d1b5-45d8-9cbe-90fcd76656f4\" class=\"colab-df-container\">\n",
              "    <div>\n",
              "<style scoped>\n",
              "    .dataframe tbody tr th:only-of-type {\n",
              "        vertical-align: middle;\n",
              "    }\n",
              "\n",
              "    .dataframe tbody tr th {\n",
              "        vertical-align: top;\n",
              "    }\n",
              "\n",
              "    .dataframe thead th {\n",
              "        text-align: right;\n",
              "    }\n",
              "</style>\n",
              "<table border=\"1\" class=\"dataframe\">\n",
              "  <thead>\n",
              "    <tr style=\"text-align: right;\">\n",
              "      <th></th>\n",
              "      <th>X</th>\n",
              "      <th>Y</th>\n",
              "      <th>Area_Command</th>\n",
              "      <th>NIBRSOffenseCode</th>\n",
              "      <th>DayOfWeek</th>\n",
              "      <th>Time</th>\n",
              "      <th>VictimCount</th>\n",
              "    </tr>\n",
              "  </thead>\n",
              "  <tbody>\n",
              "    <tr>\n",
              "      <th>count</th>\n",
              "      <td>275.000000</td>\n",
              "      <td>275.000000</td>\n",
              "      <td>275.000000</td>\n",
              "      <td>275.000000</td>\n",
              "      <td>275.000000</td>\n",
              "      <td>275.000000</td>\n",
              "      <td>275.000000</td>\n",
              "    </tr>\n",
              "    <tr>\n",
              "      <th>mean</th>\n",
              "      <td>-115.159326</td>\n",
              "      <td>36.143360</td>\n",
              "      <td>3.978182</td>\n",
              "      <td>0.909091</td>\n",
              "      <td>2.981818</td>\n",
              "      <td>11.236364</td>\n",
              "      <td>0.712727</td>\n",
              "    </tr>\n",
              "    <tr>\n",
              "      <th>std</th>\n",
              "      <td>0.101294</td>\n",
              "      <td>0.118418</td>\n",
              "      <td>3.045799</td>\n",
              "      <td>0.334878</td>\n",
              "      <td>1.924590</td>\n",
              "      <td>7.039937</td>\n",
              "      <td>0.978427</td>\n",
              "    </tr>\n",
              "    <tr>\n",
              "      <th>min</th>\n",
              "      <td>-116.000000</td>\n",
              "      <td>35.068419</td>\n",
              "      <td>0.000000</td>\n",
              "      <td>0.000000</td>\n",
              "      <td>0.000000</td>\n",
              "      <td>0.000000</td>\n",
              "      <td>0.000000</td>\n",
              "    </tr>\n",
              "    <tr>\n",
              "      <th>25%</th>\n",
              "      <td>-115.209198</td>\n",
              "      <td>36.114704</td>\n",
              "      <td>1.000000</td>\n",
              "      <td>1.000000</td>\n",
              "      <td>1.000000</td>\n",
              "      <td>5.000000</td>\n",
              "      <td>0.000000</td>\n",
              "    </tr>\n",
              "    <tr>\n",
              "      <th>50%</th>\n",
              "      <td>-115.149945</td>\n",
              "      <td>36.152415</td>\n",
              "      <td>3.000000</td>\n",
              "      <td>1.000000</td>\n",
              "      <td>3.000000</td>\n",
              "      <td>11.000000</td>\n",
              "      <td>0.000000</td>\n",
              "    </tr>\n",
              "    <tr>\n",
              "      <th>75%</th>\n",
              "      <td>-115.105200</td>\n",
              "      <td>36.183854</td>\n",
              "      <td>6.000000</td>\n",
              "      <td>1.000000</td>\n",
              "      <td>5.000000</td>\n",
              "      <td>18.000000</td>\n",
              "      <td>1.000000</td>\n",
              "    </tr>\n",
              "    <tr>\n",
              "      <th>max</th>\n",
              "      <td>-114.625570</td>\n",
              "      <td>37.000000</td>\n",
              "      <td>11.000000</td>\n",
              "      <td>2.000000</td>\n",
              "      <td>6.000000</td>\n",
              "      <td>23.000000</td>\n",
              "      <td>6.000000</td>\n",
              "    </tr>\n",
              "  </tbody>\n",
              "</table>\n",
              "</div>\n",
              "    <div class=\"colab-df-buttons\">\n",
              "\n",
              "  <div class=\"colab-df-container\">\n",
              "    <button class=\"colab-df-convert\" onclick=\"convertToInteractive('df-b67ab2be-d1b5-45d8-9cbe-90fcd76656f4')\"\n",
              "            title=\"Convert this dataframe to an interactive table.\"\n",
              "            style=\"display:none;\">\n",
              "\n",
              "  <svg xmlns=\"http://www.w3.org/2000/svg\" height=\"24px\" viewBox=\"0 -960 960 960\">\n",
              "    <path d=\"M120-120v-720h720v720H120Zm60-500h600v-160H180v160Zm220 220h160v-160H400v160Zm0 220h160v-160H400v160ZM180-400h160v-160H180v160Zm440 0h160v-160H620v160ZM180-180h160v-160H180v160Zm440 0h160v-160H620v160Z\"/>\n",
              "  </svg>\n",
              "    </button>\n",
              "\n",
              "  <style>\n",
              "    .colab-df-container {\n",
              "      display:flex;\n",
              "      gap: 12px;\n",
              "    }\n",
              "\n",
              "    .colab-df-convert {\n",
              "      background-color: #E8F0FE;\n",
              "      border: none;\n",
              "      border-radius: 50%;\n",
              "      cursor: pointer;\n",
              "      display: none;\n",
              "      fill: #1967D2;\n",
              "      height: 32px;\n",
              "      padding: 0 0 0 0;\n",
              "      width: 32px;\n",
              "    }\n",
              "\n",
              "    .colab-df-convert:hover {\n",
              "      background-color: #E2EBFA;\n",
              "      box-shadow: 0px 1px 2px rgba(60, 64, 67, 0.3), 0px 1px 3px 1px rgba(60, 64, 67, 0.15);\n",
              "      fill: #174EA6;\n",
              "    }\n",
              "\n",
              "    .colab-df-buttons div {\n",
              "      margin-bottom: 4px;\n",
              "    }\n",
              "\n",
              "    [theme=dark] .colab-df-convert {\n",
              "      background-color: #3B4455;\n",
              "      fill: #D2E3FC;\n",
              "    }\n",
              "\n",
              "    [theme=dark] .colab-df-convert:hover {\n",
              "      background-color: #434B5C;\n",
              "      box-shadow: 0px 1px 3px 1px rgba(0, 0, 0, 0.15);\n",
              "      filter: drop-shadow(0px 1px 2px rgba(0, 0, 0, 0.3));\n",
              "      fill: #FFFFFF;\n",
              "    }\n",
              "  </style>\n",
              "\n",
              "    <script>\n",
              "      const buttonEl =\n",
              "        document.querySelector('#df-b67ab2be-d1b5-45d8-9cbe-90fcd76656f4 button.colab-df-convert');\n",
              "      buttonEl.style.display =\n",
              "        google.colab.kernel.accessAllowed ? 'block' : 'none';\n",
              "\n",
              "      async function convertToInteractive(key) {\n",
              "        const element = document.querySelector('#df-b67ab2be-d1b5-45d8-9cbe-90fcd76656f4');\n",
              "        const dataTable =\n",
              "          await google.colab.kernel.invokeFunction('convertToInteractive',\n",
              "                                                    [key], {});\n",
              "        if (!dataTable) return;\n",
              "\n",
              "        const docLinkHtml = 'Like what you see? Visit the ' +\n",
              "          '<a target=\"_blank\" href=https://colab.research.google.com/notebooks/data_table.ipynb>data table notebook</a>'\n",
              "          + ' to learn more about interactive tables.';\n",
              "        element.innerHTML = '';\n",
              "        dataTable['output_type'] = 'display_data';\n",
              "        await google.colab.output.renderOutput(dataTable, element);\n",
              "        const docLink = document.createElement('div');\n",
              "        docLink.innerHTML = docLinkHtml;\n",
              "        element.appendChild(docLink);\n",
              "      }\n",
              "    </script>\n",
              "  </div>\n",
              "\n",
              "\n",
              "<div id=\"df-3f38eb5c-d400-4ac4-9b65-fa7f0624f757\">\n",
              "  <button class=\"colab-df-quickchart\" onclick=\"quickchart('df-3f38eb5c-d400-4ac4-9b65-fa7f0624f757')\"\n",
              "            title=\"Suggest charts.\"\n",
              "            style=\"display:none;\">\n",
              "\n",
              "<svg xmlns=\"http://www.w3.org/2000/svg\" height=\"24px\"viewBox=\"0 0 24 24\"\n",
              "     width=\"24px\">\n",
              "    <g>\n",
              "        <path d=\"M19 3H5c-1.1 0-2 .9-2 2v14c0 1.1.9 2 2 2h14c1.1 0 2-.9 2-2V5c0-1.1-.9-2-2-2zM9 17H7v-7h2v7zm4 0h-2V7h2v10zm4 0h-2v-4h2v4z\"/>\n",
              "    </g>\n",
              "</svg>\n",
              "  </button>\n",
              "\n",
              "<style>\n",
              "  .colab-df-quickchart {\n",
              "      --bg-color: #E8F0FE;\n",
              "      --fill-color: #1967D2;\n",
              "      --hover-bg-color: #E2EBFA;\n",
              "      --hover-fill-color: #174EA6;\n",
              "      --disabled-fill-color: #AAA;\n",
              "      --disabled-bg-color: #DDD;\n",
              "  }\n",
              "\n",
              "  [theme=dark] .colab-df-quickchart {\n",
              "      --bg-color: #3B4455;\n",
              "      --fill-color: #D2E3FC;\n",
              "      --hover-bg-color: #434B5C;\n",
              "      --hover-fill-color: #FFFFFF;\n",
              "      --disabled-bg-color: #3B4455;\n",
              "      --disabled-fill-color: #666;\n",
              "  }\n",
              "\n",
              "  .colab-df-quickchart {\n",
              "    background-color: var(--bg-color);\n",
              "    border: none;\n",
              "    border-radius: 50%;\n",
              "    cursor: pointer;\n",
              "    display: none;\n",
              "    fill: var(--fill-color);\n",
              "    height: 32px;\n",
              "    padding: 0;\n",
              "    width: 32px;\n",
              "  }\n",
              "\n",
              "  .colab-df-quickchart:hover {\n",
              "    background-color: var(--hover-bg-color);\n",
              "    box-shadow: 0 1px 2px rgba(60, 64, 67, 0.3), 0 1px 3px 1px rgba(60, 64, 67, 0.15);\n",
              "    fill: var(--button-hover-fill-color);\n",
              "  }\n",
              "\n",
              "  .colab-df-quickchart-complete:disabled,\n",
              "  .colab-df-quickchart-complete:disabled:hover {\n",
              "    background-color: var(--disabled-bg-color);\n",
              "    fill: var(--disabled-fill-color);\n",
              "    box-shadow: none;\n",
              "  }\n",
              "\n",
              "  .colab-df-spinner {\n",
              "    border: 2px solid var(--fill-color);\n",
              "    border-color: transparent;\n",
              "    border-bottom-color: var(--fill-color);\n",
              "    animation:\n",
              "      spin 1s steps(1) infinite;\n",
              "  }\n",
              "\n",
              "  @keyframes spin {\n",
              "    0% {\n",
              "      border-color: transparent;\n",
              "      border-bottom-color: var(--fill-color);\n",
              "      border-left-color: var(--fill-color);\n",
              "    }\n",
              "    20% {\n",
              "      border-color: transparent;\n",
              "      border-left-color: var(--fill-color);\n",
              "      border-top-color: var(--fill-color);\n",
              "    }\n",
              "    30% {\n",
              "      border-color: transparent;\n",
              "      border-left-color: var(--fill-color);\n",
              "      border-top-color: var(--fill-color);\n",
              "      border-right-color: var(--fill-color);\n",
              "    }\n",
              "    40% {\n",
              "      border-color: transparent;\n",
              "      border-right-color: var(--fill-color);\n",
              "      border-top-color: var(--fill-color);\n",
              "    }\n",
              "    60% {\n",
              "      border-color: transparent;\n",
              "      border-right-color: var(--fill-color);\n",
              "    }\n",
              "    80% {\n",
              "      border-color: transparent;\n",
              "      border-right-color: var(--fill-color);\n",
              "      border-bottom-color: var(--fill-color);\n",
              "    }\n",
              "    90% {\n",
              "      border-color: transparent;\n",
              "      border-bottom-color: var(--fill-color);\n",
              "    }\n",
              "  }\n",
              "</style>\n",
              "\n",
              "  <script>\n",
              "    async function quickchart(key) {\n",
              "      const quickchartButtonEl =\n",
              "        document.querySelector('#' + key + ' button');\n",
              "      quickchartButtonEl.disabled = true;  // To prevent multiple clicks.\n",
              "      quickchartButtonEl.classList.add('colab-df-spinner');\n",
              "      try {\n",
              "        const charts = await google.colab.kernel.invokeFunction(\n",
              "            'suggestCharts', [key], {});\n",
              "      } catch (error) {\n",
              "        console.error('Error during call to suggestCharts:', error);\n",
              "      }\n",
              "      quickchartButtonEl.classList.remove('colab-df-spinner');\n",
              "      quickchartButtonEl.classList.add('colab-df-quickchart-complete');\n",
              "    }\n",
              "    (() => {\n",
              "      let quickchartButtonEl =\n",
              "        document.querySelector('#df-3f38eb5c-d400-4ac4-9b65-fa7f0624f757 button');\n",
              "      quickchartButtonEl.style.display =\n",
              "        google.colab.kernel.accessAllowed ? 'block' : 'none';\n",
              "    })();\n",
              "  </script>\n",
              "</div>\n",
              "    </div>\n",
              "  </div>\n"
            ]
          },
          "metadata": {},
          "execution_count": 9
        }
      ]
    },
    {
      "cell_type": "code",
      "source": [
        "df.DayOfWeek.value_counts()\n"
      ],
      "metadata": {
        "colab": {
          "base_uri": "https://localhost:8080/"
        },
        "id": "_LKCwtg37l8t",
        "outputId": "42ae6a59-9fc4-43d3-cce9-154e00c5ea64"
      },
      "id": "_LKCwtg37l8t",
      "execution_count": 10,
      "outputs": [
        {
          "output_type": "execute_result",
          "data": {
            "text/plain": [
              "4    51\n",
              "3    44\n",
              "5    43\n",
              "0    40\n",
              "1    37\n",
              "2    32\n",
              "6    28\n",
              "Name: DayOfWeek, dtype: int64"
            ]
          },
          "metadata": {},
          "execution_count": 10
        }
      ]
    },
    {
      "cell_type": "code",
      "source": [
        "df.Time.value_counts()"
      ],
      "metadata": {
        "colab": {
          "base_uri": "https://localhost:8080/"
        },
        "id": "g-pJkLIH7-18",
        "outputId": "6701184f-9c76-4521-d2db-d241f081fcff"
      },
      "id": "g-pJkLIH7-18",
      "execution_count": 11,
      "outputs": [
        {
          "output_type": "execute_result",
          "data": {
            "text/plain": [
              "7     21\n",
              "21    18\n",
              "18    18\n",
              "9     16\n",
              "2     15\n",
              "22    14\n",
              "4     14\n",
              "8     13\n",
              "20    13\n",
              "1     13\n",
              "17    13\n",
              "0     12\n",
              "11    12\n",
              "15    11\n",
              "16    10\n",
              "5     10\n",
              "12     9\n",
              "3      9\n",
              "10     8\n",
              "13     7\n",
              "19     6\n",
              "6      5\n",
              "14     4\n",
              "23     4\n",
              "Name: Time, dtype: int64"
            ]
          },
          "metadata": {},
          "execution_count": 11
        }
      ]
    },
    {
      "cell_type": "markdown",
      "source": [
        "\n",
        "\n",
        "1.   'X' and 'Y' (Latitude and Longitude) are geographical coordinates, so their values typically range from -90 to 90 and -180 to 180, respectively but when considering an areas like las vegas it should not be varying by more than 1-2 as it is very small in size.\n",
        "2.  'Area_Command' and 'NIBRSOffenseCode' are categorical variables, represented as integers.\n",
        "3.  'DayOfWeek' ranges from 0 to 6, where 0 represents Monday and 6 represents Sunday.\n",
        "4.  'Time' ranges from 0 to 23, representing the hour of the day.\n",
        "5.  'VictimCount' represents the number of persons involved and can take a range of integer values.\n",
        "\n",
        "\n",
        "\n",
        "\n",
        "\n"
      ],
      "metadata": {
        "id": "WRNlTWN8_Nip"
      },
      "id": "WRNlTWN8_Nip"
    },
    {
      "cell_type": "markdown",
      "id": "5549ecc9-3c0b-4efa-9a1f-340a25a1e4be",
      "metadata": {
        "id": "5549ecc9-3c0b-4efa-9a1f-340a25a1e4be"
      },
      "source": [
        "## Task 2\n",
        "\n",
        "* Create two `DataLoader` objects for training and testing based on the input and output variables. Pick a reasonable batch size and verify the shape of data by iterating over the one dataset and printing the shape of the batched data."
      ]
    },
    {
      "cell_type": "code",
      "execution_count": 12,
      "id": "00fe4287-934b-4799-9e43-c3571acfbab4",
      "metadata": {
        "colab": {
          "base_uri": "https://localhost:8080/"
        },
        "id": "00fe4287-934b-4799-9e43-c3571acfbab4",
        "outputId": "cc703c9f-3ade-47ee-e3c1-0b4d7bc6fced"
      },
      "outputs": [
        {
          "output_type": "stream",
          "name": "stdout",
          "text": [
            "Input shape: torch.Size([64, 6])\n",
            "Target shape: torch.Size([64])\n"
          ]
        }
      ],
      "source": [
        "import torch\n",
        "from torch.utils.data import TensorDataset, DataLoader\n",
        "\n",
        "# Converting DataFrame to PyTorch tensors\n",
        "X = torch.Tensor(df[['X', 'Y', 'Area_Command', 'NIBRSOffenseCode', 'DayOfWeek', 'Time']].values)\n",
        "y = torch.Tensor(df['VictimCount'].values)\n",
        "\n",
        "batch_size = 64\n",
        "\n",
        "# Creating TensorDataset and DataLoader for training and testing\n",
        "dataset = TensorDataset(X, y)\n",
        "\n",
        "# Splitting the data into training and testing\n",
        "train_size = int(0.8 * len(dataset))\n",
        "test_size = len(dataset) - train_size\n",
        "train_dataset, test_dataset = torch.utils.data.random_split(dataset, [train_size, test_size])\n",
        "\n",
        "# Creating DataLoader objects\n",
        "train_loader = DataLoader(train_dataset, batch_size=batch_size, shuffle=True)\n",
        "test_loader = DataLoader(test_dataset, batch_size=batch_size, shuffle=False)\n",
        "\n",
        "# Verifying the shape of the data by iterating over one dataset\n",
        "for batch in train_loader:\n",
        "    inputs, targets = batch\n",
        "    print(\"Input shape:\", inputs.shape)\n",
        "    print(\"Target shape:\", targets.shape)\n",
        "    break"
      ]
    },
    {
      "cell_type": "markdown",
      "id": "1fb6f08c-5e70-4b14-b62c-4686d9f7aace",
      "metadata": {
        "id": "1fb6f08c-5e70-4b14-b62c-4686d9f7aace"
      },
      "source": [
        "## Task 3\n",
        "In this task you will try to predict number of crime victims as a **real number**. Therefore the machine learning problem is a **regression** problem.\n",
        "\n",
        "* Define the proper loss function for this task\n",
        "* what should the size of the predicted output be?\n",
        "* explain your choice of architecture, including how many layers you will be using\n",
        "* define an optimizer for training this model, choose a proper learning rate\n",
        "* write a training loop that obtains a batch out of the  training data and calculates the forward and backward passes over the neural network. Call the optimizer to update the weights of the neural network.\n",
        "* write a for loop that continues the training over a number of epochs. At the end of each epoch, calculate the ``MSE`` error on the test data and print it.\n",
        "* is your model training well? Adjust the learning rate, hidden size of the network, and try different activation functions and number of layers to achieve the best accuracy and report it."
      ]
    },
    {
      "cell_type": "markdown",
      "source": [
        "<br>The size of the predicted output should be 1, as we're predicting a single continuous value (the number of crime victims)."
      ],
      "metadata": {
        "id": "F3TMlXaaVnd6"
      },
      "id": "F3TMlXaaVnd6"
    },
    {
      "cell_type": "markdown",
      "source": [
        " For the architecture, I have defined a feedforward neural network with the following characteristics:<br>\n",
        "\n",
        "**Input Layer:** 6 input features (X, Y, Area_Command, NIBRSOffenseCode, DayOfWeek, Time).<br>\n",
        "**Hidden Layers:** 3 hidden layers, each with 64 neurons and ReLU activation functions.<br>\n",
        "**Output Layer:** 1 neuron (for the predicted number of crime victims).\n"
      ],
      "metadata": {
        "id": "eaTZD6NKWDu8"
      },
      "id": "eaTZD6NKWDu8"
    },
    {
      "cell_type": "code",
      "source": [
        "import torch\n",
        "import torch.nn as nn\n",
        "import torch.optim as optim\n",
        "\n",
        "class RegressionModel(nn.Module):\n",
        "    def __init__(self):\n",
        "        super(RegressionModel, self).__init__()\n",
        "        self.fc1 = nn.Linear(6, 64)\n",
        "        self.fc2 = nn.Linear(64, 64)\n",
        "        self.fc3 = nn.Linear(64, 64)\n",
        "        self.fc4 = nn.Linear(64, 64)\n",
        "        self.fc5 = nn.Linear(64, 1)\n",
        "\n",
        "    def forward(self, x):\n",
        "        x = torch.relu(self.fc1(x))\n",
        "        x = torch.relu(self.fc2(x))\n",
        "        x = torch.relu(self.fc4(x))\n",
        "        x = self.fc5(x)\n",
        "        return x\n",
        "\n",
        "model = RegressionModel()\n",
        "\n",
        "# Defining the loss function\n",
        "criterion = nn.MSELoss()\n",
        "\n",
        "# Defining the optimizer with a lower learning rate for smoother convergence\n",
        "optimizer = optim.Adam(model.parameters(), lr=0.0001)\n",
        "\n",
        "# Training loop\n",
        "num_epochs = 50\n",
        "best_mse = float('inf')\n",
        "\n",
        "for epoch in range(num_epochs):\n",
        "    model.train()\n",
        "    for inputs, targets in train_loader:\n",
        "        optimizer.zero_grad()\n",
        "        outputs = model(inputs)\n",
        "        loss = criterion(outputs, targets)\n",
        "        loss.backward()\n",
        "        optimizer.step()\n",
        "\n",
        "    # Calculating MSE on the test data and print it\n",
        "    model.eval()\n",
        "    test_losses = []\n",
        "    with torch.no_grad():\n",
        "        for test_inputs, test_targets in test_loader:\n",
        "            test_outputs = model(test_inputs)\n",
        "            test_loss = criterion(test_outputs, test_targets)\n",
        "            test_losses.append(test_loss.item())\n",
        "\n",
        "    # Calculating and print the average test MSE for the epoch\n",
        "    avg_test_loss = sum(test_losses) / len(test_losses)\n",
        "    print(f\"Epoch {epoch+1}, Test MSE: {avg_test_loss}\")\n",
        "\n",
        "    if avg_test_loss < best_mse:\n",
        "        best_mse = avg_test_loss\n",
        "\n",
        "# Printing the best MSE achieved\n",
        "print(f\"Best Test MSE: {best_mse}\")\n"
      ],
      "metadata": {
        "colab": {
          "base_uri": "https://localhost:8080/"
        },
        "id": "BC-_WoYC_6WE",
        "outputId": "e1df163d-f1cd-474e-e048-6197f59bbc6c"
      },
      "id": "BC-_WoYC_6WE",
      "execution_count": 12,
      "outputs": [
        {
          "output_type": "stream",
          "name": "stderr",
          "text": [
            "/usr/local/lib/python3.10/dist-packages/torch/nn/modules/loss.py:535: UserWarning: Using a target size (torch.Size([64])) that is different to the input size (torch.Size([64, 1])). This will likely lead to incorrect results due to broadcasting. Please ensure they have the same size.\n",
            "  return F.mse_loss(input, target, reduction=self.reduction)\n",
            "/usr/local/lib/python3.10/dist-packages/torch/nn/modules/loss.py:535: UserWarning: Using a target size (torch.Size([28])) that is different to the input size (torch.Size([28, 1])). This will likely lead to incorrect results due to broadcasting. Please ensure they have the same size.\n",
            "  return F.mse_loss(input, target, reduction=self.reduction)\n",
            "/usr/local/lib/python3.10/dist-packages/torch/nn/modules/loss.py:535: UserWarning: Using a target size (torch.Size([55])) that is different to the input size (torch.Size([55, 1])). This will likely lead to incorrect results due to broadcasting. Please ensure they have the same size.\n",
            "  return F.mse_loss(input, target, reduction=self.reduction)\n"
          ]
        },
        {
          "output_type": "stream",
          "name": "stdout",
          "text": [
            "Epoch 1, Test MSE: 5.178445339202881\n",
            "Epoch 2, Test MSE: 3.630056142807007\n",
            "Epoch 3, Test MSE: 2.4786784648895264\n",
            "Epoch 4, Test MSE: 1.618829369544983\n",
            "Epoch 5, Test MSE: 1.0621840953826904\n",
            "Epoch 6, Test MSE: 0.7536399364471436\n",
            "Epoch 7, Test MSE: 0.627478301525116\n",
            "Epoch 8, Test MSE: 0.6151413917541504\n",
            "Epoch 9, Test MSE: 0.6541514992713928\n",
            "Epoch 10, Test MSE: 0.7019668221473694\n",
            "Epoch 11, Test MSE: 0.7276841998100281\n",
            "Epoch 12, Test MSE: 0.7249425649642944\n",
            "Epoch 13, Test MSE: 0.7040476202964783\n",
            "Epoch 14, Test MSE: 0.6769173741340637\n",
            "Epoch 15, Test MSE: 0.655231773853302\n",
            "Epoch 16, Test MSE: 0.6385571360588074\n",
            "Epoch 17, Test MSE: 0.6276640892028809\n",
            "Epoch 18, Test MSE: 0.621562123298645\n",
            "Epoch 19, Test MSE: 0.6185009479522705\n",
            "Epoch 20, Test MSE: 0.6167097687721252\n",
            "Epoch 21, Test MSE: 0.616132915019989\n",
            "Epoch 22, Test MSE: 0.6179885864257812\n",
            "Epoch 23, Test MSE: 0.6209585666656494\n",
            "Epoch 24, Test MSE: 0.6239734292030334\n",
            "Epoch 25, Test MSE: 0.6284587383270264\n",
            "Epoch 26, Test MSE: 0.6294072866439819\n",
            "Epoch 27, Test MSE: 0.6287686228752136\n",
            "Epoch 28, Test MSE: 0.6261531114578247\n",
            "Epoch 29, Test MSE: 0.6259892582893372\n",
            "Epoch 30, Test MSE: 0.6239823698997498\n",
            "Epoch 31, Test MSE: 0.6234441995620728\n",
            "Epoch 32, Test MSE: 0.6228418350219727\n",
            "Epoch 33, Test MSE: 0.6218188405036926\n",
            "Epoch 34, Test MSE: 0.6200534105300903\n",
            "Epoch 35, Test MSE: 0.6223304867744446\n",
            "Epoch 36, Test MSE: 0.6242443919181824\n",
            "Epoch 37, Test MSE: 0.624300479888916\n",
            "Epoch 38, Test MSE: 0.6219500303268433\n",
            "Epoch 39, Test MSE: 0.6231362819671631\n",
            "Epoch 40, Test MSE: 0.6227944493293762\n",
            "Epoch 41, Test MSE: 0.6201879382133484\n",
            "Epoch 42, Test MSE: 0.6182363629341125\n",
            "Epoch 43, Test MSE: 0.6150795221328735\n",
            "Epoch 44, Test MSE: 0.6142494678497314\n",
            "Epoch 45, Test MSE: 0.6143105030059814\n",
            "Epoch 46, Test MSE: 0.6156073808670044\n",
            "Epoch 47, Test MSE: 0.6185064911842346\n",
            "Epoch 48, Test MSE: 0.6228104829788208\n",
            "Epoch 49, Test MSE: 0.625463604927063\n",
            "Epoch 50, Test MSE: 0.623436689376831\n",
            "Best Test MSE: 0.6142494678497314\n"
          ]
        }
      ]
    },
    {
      "cell_type": "markdown",
      "source": [
        "Best MSE: 0.61"
      ],
      "metadata": {
        "id": "Vk5N3dsuW41R"
      },
      "id": "Vk5N3dsuW41R"
    },
    {
      "cell_type": "markdown",
      "id": "86e3fc70-c6ce-4589-9930-128951290e8d",
      "metadata": {
        "id": "86e3fc70-c6ce-4589-9930-128951290e8d"
      },
      "source": [
        "## Task 4\n",
        "\n",
        "In this task, you will try to predict the number of crime victims as a **class number**. Therefore the machine learning problem is a **classification** problem.\n",
        "\n",
        "* Repeat all the steps in task 3. Specifically, pay attention to the differences with regression.\n",
        "* How would you find the number of classes on the output data?\n",
        "* How is the architecture different?\n",
        "* How is the loss function different?\n",
        "* Calculate the Accuracy for test data as the number of correct classified outputs divided by the total number of test data in each epoch. Report it at the end of each epoch\n",
        "* Try a few variations of learning rate, hidden dimensions, layers, etc. What is the best accuracy that you can get?"
      ]
    },
    {
      "cell_type": "markdown",
      "source": [
        "<br>**Architecture:**<br>\n",
        "In Task 3, I used a regression model with a single output neuron to predict a continuous value. In Task 4, a classification model with multiple output neurons is needed, one for each class. The architecture should be designed to handle multi-class classification.\n"
      ],
      "metadata": {
        "id": "Fb7L6IRLXWGa"
      },
      "id": "Fb7L6IRLXWGa"
    },
    {
      "cell_type": "markdown",
      "source": [
        "**Loss Function:**<br>\n",
        "In Task 3, I used Mean Squared Error (MSE) as the loss function because it's appropriate for regression. In Task 4, I used the Cross-Entropy loss, which is commonly used for multi-class classification problems.\n"
      ],
      "metadata": {
        "id": "9KpitBEsXYmU"
      },
      "id": "9KpitBEsXYmU"
    },
    {
      "cell_type": "markdown",
      "source": [
        "**Model Architecture:**<br>\n",
        "I've defined a classification model with the following characteristics:\n",
        "Input Layer: The number of input features (input_size) corresponding to the input data.<br>\n",
        "Hidden Layer: One hidden layer with hidden_size neurons and a ReLU activation function.<br>\n",
        "Output Layer: The number of output neurons equal to num_classes, representing the classes for classification."
      ],
      "metadata": {
        "id": "Bmcu0xv-XavQ"
      },
      "id": "Bmcu0xv-XavQ"
    },
    {
      "cell_type": "code",
      "source": [
        "# Finding the number of classes on output data\n",
        "num_classes = df['VictimCount'].nunique()"
      ],
      "metadata": {
        "id": "qwwcFml5yIWV"
      },
      "id": "qwwcFml5yIWV",
      "execution_count": 13,
      "outputs": []
    },
    {
      "cell_type": "code",
      "source": [
        "from os import access\n",
        "import torch.optim as optim\n",
        "import torch.nn as nn\n",
        "\n",
        "# Classification model\n",
        "class ClassificationModel(nn.Module):\n",
        "    def __init__(self, input_size, hidden_size, num_classes):\n",
        "        super(ClassificationModel, self).__init__()\n",
        "        self.fc1 = nn.Linear(input_size, hidden_size)\n",
        "        self.fc2 = nn.Linear(hidden_size, num_classes)\n",
        "\n",
        "    def forward(self, x):\n",
        "        x = torch.relu(self.fc1(x))\n",
        "        x = self.fc2(x)\n",
        "        return x\n",
        "input_size=6\n",
        "hidden_size=64\n",
        "\n",
        "model = ClassificationModel(input_size, hidden_size, num_classes)\n",
        "\n",
        "# Define the loss function and optimizer for classification\n",
        "criterion = nn.CrossEntropyLoss()\n",
        "optimizer = optim.Adam(model.parameters(), lr=0.01)\n",
        "\n",
        "# Training loop for classification\n",
        "num_epochs = 50\n",
        "best_accuracy = 0.0\n",
        "for epoch in range(num_epochs):\n",
        "    model.train()\n",
        "    for batch in train_loader:\n",
        "        inputs, targets = batch\n",
        "        optimizer.zero_grad()\n",
        "        outputs = model(inputs)\n",
        "        loss = criterion(outputs, targets.long())  # Targets should be of type long for CrossEntropyLoss\n",
        "        loss.backward()\n",
        "        optimizer.step()\n",
        "\n",
        "    # Calculate the accuracy on the test data\n",
        "    model.eval()\n",
        "    correct = 0\n",
        "    total = 0\n",
        "    with torch.no_grad():\n",
        "        for batch in test_loader:\n",
        "            inputs, targets = batch\n",
        "            outputs = model(inputs)\n",
        "            _, predicted = torch.max(outputs, 1)\n",
        "            total += targets.size(0)\n",
        "            correct += (predicted == targets).sum().item()\n",
        "    accuracy = 100 * correct / total\n",
        "    print(f\"Epoch [{epoch+1}/{num_epochs}] - Test Accuracy: {accuracy}%\")\n",
        "\n",
        "    # Check if the current epoch has the best accuracy so far\n",
        "    if accuracy > best_accuracy:\n",
        "        best_accuracy = accuracy\n",
        "\n",
        "# Print the best accuracy achieved\n",
        "print(f\"Best Test Accuracy: {best_accuracy}%\")\n"
      ],
      "metadata": {
        "colab": {
          "base_uri": "https://localhost:8080/"
        },
        "id": "x3XT4XHJyAi2",
        "outputId": "b718a99b-b0c0-4395-84d1-9297f8d95732"
      },
      "id": "x3XT4XHJyAi2",
      "execution_count": 16,
      "outputs": [
        {
          "output_type": "stream",
          "name": "stdout",
          "text": [
            "Epoch [1/50] - Test Accuracy: 32.72727272727273%\n",
            "Epoch [2/50] - Test Accuracy: 56.36363636363637%\n",
            "Epoch [3/50] - Test Accuracy: 32.72727272727273%\n",
            "Epoch [4/50] - Test Accuracy: 45.45454545454545%\n",
            "Epoch [5/50] - Test Accuracy: 32.72727272727273%\n",
            "Epoch [6/50] - Test Accuracy: 43.63636363636363%\n",
            "Epoch [7/50] - Test Accuracy: 43.63636363636363%\n",
            "Epoch [8/50] - Test Accuracy: 40.0%\n",
            "Epoch [9/50] - Test Accuracy: 56.36363636363637%\n",
            "Epoch [10/50] - Test Accuracy: 34.54545454545455%\n",
            "Epoch [11/50] - Test Accuracy: 60.0%\n",
            "Epoch [12/50] - Test Accuracy: 56.36363636363637%\n",
            "Epoch [13/50] - Test Accuracy: 58.18181818181818%\n",
            "Epoch [14/50] - Test Accuracy: 50.90909090909091%\n",
            "Epoch [15/50] - Test Accuracy: 56.36363636363637%\n",
            "Epoch [16/50] - Test Accuracy: 47.27272727272727%\n",
            "Epoch [17/50] - Test Accuracy: 56.36363636363637%\n",
            "Epoch [18/50] - Test Accuracy: 49.09090909090909%\n",
            "Epoch [19/50] - Test Accuracy: 56.36363636363637%\n",
            "Epoch [20/50] - Test Accuracy: 34.54545454545455%\n",
            "Epoch [21/50] - Test Accuracy: 56.36363636363637%\n",
            "Epoch [22/50] - Test Accuracy: 49.09090909090909%\n",
            "Epoch [23/50] - Test Accuracy: 56.36363636363637%\n",
            "Epoch [24/50] - Test Accuracy: 56.36363636363637%\n",
            "Epoch [25/50] - Test Accuracy: 58.18181818181818%\n",
            "Epoch [26/50] - Test Accuracy: 56.36363636363637%\n",
            "Epoch [27/50] - Test Accuracy: 43.63636363636363%\n",
            "Epoch [28/50] - Test Accuracy: 56.36363636363637%\n",
            "Epoch [29/50] - Test Accuracy: 32.72727272727273%\n",
            "Epoch [30/50] - Test Accuracy: 56.36363636363637%\n",
            "Epoch [31/50] - Test Accuracy: 56.36363636363637%\n",
            "Epoch [32/50] - Test Accuracy: 47.27272727272727%\n",
            "Epoch [33/50] - Test Accuracy: 40.0%\n",
            "Epoch [34/50] - Test Accuracy: 56.36363636363637%\n",
            "Epoch [35/50] - Test Accuracy: 32.72727272727273%\n",
            "Epoch [36/50] - Test Accuracy: 56.36363636363637%\n",
            "Epoch [37/50] - Test Accuracy: 56.36363636363637%\n",
            "Epoch [38/50] - Test Accuracy: 32.72727272727273%\n",
            "Epoch [39/50] - Test Accuracy: 56.36363636363637%\n",
            "Epoch [40/50] - Test Accuracy: 32.72727272727273%\n",
            "Epoch [41/50] - Test Accuracy: 56.36363636363637%\n",
            "Epoch [42/50] - Test Accuracy: 54.54545454545455%\n",
            "Epoch [43/50] - Test Accuracy: 52.72727272727273%\n",
            "Epoch [44/50] - Test Accuracy: 56.36363636363637%\n",
            "Epoch [45/50] - Test Accuracy: 56.36363636363637%\n",
            "Epoch [46/50] - Test Accuracy: 60.0%\n",
            "Epoch [47/50] - Test Accuracy: 56.36363636363637%\n",
            "Epoch [48/50] - Test Accuracy: 32.72727272727273%\n",
            "Epoch [49/50] - Test Accuracy: 56.36363636363637%\n",
            "Epoch [50/50] - Test Accuracy: 52.72727272727273%\n",
            "Best Test Accuracy: 60.0%\n"
          ]
        }
      ]
    },
    {
      "cell_type": "markdown",
      "id": "84d2a304-6197-4cd9-b31e-745f7862f213",
      "metadata": {
        "id": "84d2a304-6197-4cd9-b31e-745f7862f213"
      },
      "source": [
        "## Task 5"
      ]
    },
    {
      "cell_type": "markdown",
      "id": "d6e4ef16-d828-45e5-bd58-1c49fcfecf52",
      "metadata": {
        "id": "d6e4ef16-d828-45e5-bd58-1c49fcfecf52"
      },
      "source": [
        "### Reflect on your results\n",
        "\n",
        "* Write a paragraph about your experience with tasks 3 and 4. How do you compare the results? Which one worked better? Why?\n",
        "* Write a piece of code that finds an example of a  miss-classification. Calculate the probabilities for the output classes and plot them in a bar chart. Also, indicate what is the correct class label."
      ]
    },
    {
      "cell_type": "markdown",
      "source": [
        "I had the chance to investigate two distinct methods for solving a real-world data prediction problem in tasks 3 and 4, which gave me important insights into the effects of problem framing and machine learning techniques. In order to precisely anticipate the number of crime victims, challenge 3 approached the topic as a regression challenge. Multiple hidden layers in the regression model reduced the Mean Squared Error (MSE) loss over epochs, leading to a model that did a respectable job at continuous target prediction. In contrast, task 4 reframed the issue as a classification challenge to forecast the number of crime victims within predefined categories. The model architecture, loss function, and evaluation metrics all have to be modified as a result.\n",
        "\n",
        "A different strategy was demonstrated by the classification model, which was assessed using accuracy and trained using Cross-Entropy loss. When comparing the outcomes, it's evident that the problem type selection matters. Due to its closer alignment with the target variable's inherent categorization, Task 4's classification approach performed better for the given problem and achieved higher accuracy.\n"
      ],
      "metadata": {
        "id": "ioC7W76MQz0n"
      },
      "id": "ioC7W76MQz0n"
    },
    {
      "cell_type": "code",
      "source": [
        "import matplotlib.pyplot as plt\n",
        "import random\n",
        "\n",
        "model.eval()\n",
        "\n",
        "sample_index = random.randint(0, len(test_dataset))\n",
        "sample = test_dataset[sample_index]\n",
        "\n",
        "input_data, true_label = sample\n",
        "input_data = input_data.view(1, -1)\n",
        "\n",
        "# Getting the model's prediction\n",
        "with torch.no_grad():\n",
        "    output = model(input_data)\n",
        "    predicted_class = torch.argmax(output, dim=1)\n",
        "\n",
        "probabilities = torch.softmax(output, dim=1)[0]\n",
        "\n",
        "class_labels = df['VictimCount'].unique()\n",
        "\n",
        "# Plotting the class probabilities\n",
        "plt.bar(class_labels, probabilities)\n",
        "plt.xlabel('Class Label')\n",
        "plt.ylabel('Probability')\n",
        "plt.title('Class Probabilities')\n",
        "plt.show()\n",
        "\n",
        "# Printing the true label and the predicted class\n",
        "print(f\"True Label: {true_label}, Predicted Class: {predicted_class.item()}\")\n"
      ],
      "metadata": {
        "colab": {
          "base_uri": "https://localhost:8080/",
          "height": 489
        },
        "id": "jV09UdUNt2N3",
        "outputId": "3684b5ee-67d5-4f9c-e19c-baca42e64713"
      },
      "id": "jV09UdUNt2N3",
      "execution_count": 17,
      "outputs": [
        {
          "output_type": "display_data",
          "data": {
            "text/plain": [
              "<Figure size 640x480 with 1 Axes>"
            ],
            "image/png": "[encoded data removed]"
          },
          "metadata": {}
        },
        {
          "output_type": "stream",
          "name": "stdout",
          "text": [
            "True Label: 0.0, Predicted Class: 1\n"
          ]
        }
      ]
    },
    {
      "cell_type": "markdown",
      "id": "5b000b0b-fa37-4f8d-8ec7-0a1e6e749424",
      "metadata": {
        "id": "5b000b0b-fa37-4f8d-8ec7-0a1e6e749424"
      },
      "source": [
        "## Task 6: Exploring the patterns in raw data\n",
        "\n",
        "* Plot the crime incidents as a `scatter` plot using the corrdinates. Use the color property of each datapoint to indicate the day of the week. Is there a pattern in the plot?\n",
        "* Now make a new scatter plot and use the color property of each datapoint to indicate the number of persons involved in the incident. Is there a pattern here?\n",
        "* use numpy (or pandas if you like) to sort the number of crimes reported by the day of the week. What days are most frequent?\n"
      ]
    },
    {
      "cell_type": "code",
      "execution_count": 18,
      "id": "5b396aaf-5d1a-49cd-ae1d-b63af7e561f5",
      "metadata": {
        "id": "5b396aaf-5d1a-49cd-ae1d-b63af7e561f5",
        "colab": {
          "base_uri": "https://localhost:8080/",
          "height": 1000
        },
        "outputId": "81832223-8d4e-43df-f708-2c18b1219b18"
      },
      "outputs": [
        {
          "output_type": "display_data",
          "data": {
            "text/plain": [
              "<Figure size 1000x600 with 2 Axes>"
            ],
            "image/png": "[encoded data removed]"
          },
          "metadata": {}
        },
        {
          "output_type": "display_data",
          "data": {
            "text/plain": [
              "<Figure size 1000x600 with 2 Axes>"
            ],
            "image/png": "[encoded data removed]"
          },
          "metadata": {}
        },
        {
          "output_type": "stream",
          "name": "stdout",
          "text": [
            "Number of Crimes Reported by Day of the Week:\n",
            "0    40\n",
            "1    37\n",
            "2    32\n",
            "3    44\n",
            "4    51\n",
            "5    43\n",
            "6    28\n",
            "Name: DayOfWeek, dtype: int64\n",
            "\n",
            "Most Frequent Day(s):\n",
            "4    51\n",
            "Name: DayOfWeek, dtype: int64\n"
          ]
        }
      ],
      "source": [
        "import matplotlib.pyplot as plt\n",
        "\n",
        "# Scatter plot using coordinates with colors representing the day of the week\n",
        "plt.figure(figsize=(10, 6))\n",
        "plt.scatter(df['X'], df['Y'], c=df['DayOfWeek'], cmap='viridis', s=10)\n",
        "plt.colorbar(label='Day of the Week')\n",
        "plt.xlabel('Longitude (X)')\n",
        "plt.ylabel('Latitude (Y)')\n",
        "plt.title('Crime Incidents by Day of the Week')\n",
        "plt.show()\n",
        "\n",
        "# Scatter plot using coordinates with colors representing the number of persons involved\n",
        "plt.figure(figsize=(10, 6))\n",
        "plt.scatter(df['X'], df['Y'], c=df['VictimCount'], cmap='viridis', s=10)\n",
        "plt.colorbar(label='Number of Persons Involved')\n",
        "plt.xlabel('Longitude (X)')\n",
        "plt.ylabel('Latitude (Y)')\n",
        "plt.title('Crime Incidents by Number of Persons Involved')\n",
        "plt.show()\n",
        "\n",
        "# Count the number of crimes reported by day of the week and sort by day of the week\n",
        "crime_counts_by_day = df['DayOfWeek'].value_counts().sort_index()\n",
        "print(\"Number of Crimes Reported by Day of the Week:\")\n",
        "print(crime_counts_by_day)\n",
        "\n",
        "# Finding the most frequent day(s)\n",
        "most_frequent_days = crime_counts_by_day[crime_counts_by_day == crime_counts_by_day.max()]\n",
        "print(\"\\nMost Frequent Day(s):\")\n",
        "print(most_frequent_days)"
      ]
    }
  ],
  "metadata": {
    "kernelspec": {
      "display_name": "Python 3 (ipykernel)",
      "language": "python",
      "name": "python3"
    },
    "language_info": {
      "codemirror_mode": {
        "name": "ipython",
        "version": 3
      },
      "file_extension": ".py",
      "mimetype": "text/x-python",
      "name": "python",
      "nbconvert_exporter": "python",
      "pygments_lexer": "ipython3",
      "version": "3.11.5"
    },
    "colab": {
      "provenance": []
    }
  },
  "nbformat": 4,
  "nbformat_minor": 5
}